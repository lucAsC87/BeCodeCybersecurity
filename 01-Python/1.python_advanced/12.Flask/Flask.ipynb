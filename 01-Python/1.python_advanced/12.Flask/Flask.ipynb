{
 "cells": [
  {
   "cell_type": "markdown",
   "metadata": {},
   "source": [
    "# Flask Python\n",
    "\n",
    "## Follow the Course\n",
    "\n",
    "[Basics of Flask](https://youtu.be/jQjjqEjZK58?si=WjKA3TgfFErTJ60P)\n",
    "\n",
    "## Assignment\n",
    "\n",
    "Type of Challenge: Implementation\n",
    "Duration: 2 days\n",
    "Challenge Type : Solo\n",
    "\n",
    "1. Install Flask: Make sure Flask is installed on your system. You can install it using pip.\n",
    "2. Create a Python file: Create a new Python file (e.g., app.py) to write your Flask application code.\n",
    "3. Import Flask: Import the Flask class from the flask module.\n",
    "4. Create an instance: Create an instance of the Flask class.\n",
    "5. Define a Route: Define a route for the root URL '/' that returns a simple greeting message (e.g.,Hello World).\n",
    "6. Run the App: Add a conditional block to run the Flask application if the script is executed directly.\n",
    "7. Run the Application: Execute the Python script you've created.\n",
    "8. Access the Webpage: Open a web browser and navigate to http://127.0.0.1:5000/. You should see the greeting message displayed.\n",
    "9. Create Another Route: Define another route (e.g., /form) for displaying a form and handling form submission.\n",
    "10. Handle Form Submission: Add logic to handle form submission in the /form route.\n",
    "11. Render a Template: Create an HTML template (e.g., form.html) to render the form.\n",
    "12. Return the Template: Update the /form route to render the HTML template.\n",
    "13. Run the Enhanced Application: Run the Flask application again and test the form submission functionality."
   ]
  }
 ],
 "metadata": {
  "kernelspec": {
   "display_name": "Python 3",
   "language": "python",
   "name": "python3"
  },
  "language_info": {
   "codemirror_mode": {
    "name": "ipython",
    "version": 3
   },
   "file_extension": ".py",
   "mimetype": "text/x-python",
   "name": "python",
   "nbconvert_exporter": "python",
   "pygments_lexer": "ipython3",
   "version": "3.6.9"
  }
 },
 "nbformat": 4,
 "nbformat_minor": 4
}
