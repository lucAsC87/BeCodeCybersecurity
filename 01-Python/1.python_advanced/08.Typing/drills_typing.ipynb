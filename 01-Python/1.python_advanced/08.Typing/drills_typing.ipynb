{
 "cells": [
  {
   "cell_type": "markdown",
   "metadata": {},
   "source": [
    "### Type hints : drill"
   ]
  },
  {
   "cell_type": "markdown",
   "metadata": {},
   "source": [
    "Write a function with annotations that changes an `int` into a `str`. "
   ]
  },
  {
   "cell_type": "code",
   "execution_count": 1,
   "metadata": {
    "ExecuteTime": {
     "end_time": "2025-05-27T13:32:52.845774Z",
     "start_time": "2025-05-27T13:32:52.840139Z"
    }
   },
   "outputs": [],
   "source": [
    "def converter(num: int) -> str:\n",
    "    return str(num)"
   ]
  },
  {
   "cell_type": "markdown",
   "metadata": {},
   "source": [
    "Now one that divides an `int` by another."
   ]
  },
  {
   "cell_type": "code",
   "execution_count": 2,
   "metadata": {
    "ExecuteTime": {
     "end_time": "2025-05-27T13:34:05.133417Z",
     "start_time": "2025-05-27T13:34:05.128232Z"
    }
   },
   "outputs": [],
   "source": [
    "def divider(a: int, b: int) -> float:\n",
    "    return a / b"
   ]
  },
  {
   "cell_type": "markdown",
   "metadata": {},
   "source": [
    "Annotate the function declaration below."
   ]
  },
  {
   "cell_type": "code",
   "execution_count": 3,
   "metadata": {},
   "outputs": [
    {
     "ename": "SyntaxError",
     "evalue": "incomplete input (3318215123.py, line 9)",
     "output_type": "error",
     "traceback": [
      "\u001b[0;36m  Cell \u001b[0;32mIn[3], line 9\u001b[0;36m\u001b[0m\n\u001b[0;31m    ) -> None:\u001b[0m\n\u001b[0m              ^\u001b[0m\n\u001b[0;31mSyntaxError\u001b[0m\u001b[0;31m:\u001b[0m incomplete input\n"
     ]
    }
   ],
   "source": [
    "from typing import Optional\n",
    "\n",
    "def send_email(address: str,\n",
    "               sender: str,\n",
    "               cc: str,\n",
    "               cci: str,\n",
    "               subject: str = '',\n",
    "               body: Optional[str] = None\n",
    "               ) -> None:"
   ]
  },
  {
   "cell_type": "markdown",
   "metadata": {},
   "source": [
    "Given the next strings :\n",
    "```\n",
    "suits = \"♠ ♡ ♢ ♣\".split()\n",
    "ranks = \"2 3 4 5 6 7 8 9 10 J Q K A\".split()\n",
    "```\n"
   ]
  },
  {
   "cell_type": "markdown",
   "metadata": {},
   "source": [
    "Define `Card`, `Deck` and `Players`. Use [type **aliases**](https://stackoverflow.com/questions/33045222/how-do-you-alias-a-type-in-python)."
   ]
  },
  {
   "cell_type": "code",
   "execution_count": 10,
   "metadata": {
    "ExecuteTime": {
     "end_time": "2025-05-27T13:49:16.651905Z",
     "start_time": "2025-05-27T13:49:16.642519Z"
    }
   },
   "outputs": [],
   "source": [
    "from typing import Tuple, List, Dict\n",
    "import random\n",
    "\n",
    "Suit = str\n",
    "Rank = str\n",
    "Card = Tuple[Rank, Suit]\n",
    "Deck = List[Card]\n",
    "Players = Dict[str, Deck]\n",
    "\n",
    "suits: List[Suit] = \"♠ ♡ ♢ ♣\".split()\n",
    "ranks: List[Rank] = \"2 3 4 5 6 7 8 9 10 J Q K A\".split()"
   ]
  },
  {
   "cell_type": "markdown",
   "metadata": {},
   "source": [
    "Write a program that will create and shuffle the deck. Then distribute the cards to 4 players. Using annotations."
   ]
  },
  {
   "cell_type": "code",
   "execution_count": 12,
   "metadata": {
    "ExecuteTime": {
     "end_time": "2025-05-27T13:49:21.281678Z",
     "start_time": "2025-05-27T13:49:21.257307Z"
    }
   },
   "outputs": [
    {
     "name": "stdout",
     "output_type": "stream",
     "text": [
      "Alice: [('6', '♢'), ('J', '♡'), ('Q', '♡'), ('10', '♠'), ('7', '♡'), ('4', '♡'), ('6', '♠'), ('5', '♢'), ('3', '♢'), ('8', '♢'), ('9', '♡'), ('2', '♢'), ('J', '♠')]\n",
      "Bob: [('9', '♣'), ('10', '♡'), ('4', '♠'), ('7', '♢'), ('J', '♢'), ('2', '♠'), ('6', '♡'), ('8', '♡'), ('7', '♠'), ('9', '♠'), ('A', '♡'), ('K', '♢'), ('8', '♠')]\n",
      "Charlie: [('Q', '♣'), ('7', '♣'), ('5', '♣'), ('6', '♣'), ('3', '♠'), ('2', '♣'), ('K', '♣'), ('A', '♢'), ('K', '♡'), ('K', '♠'), ('2', '♡'), ('10', '♣'), ('5', '♡')]\n",
      "Diana: [('9', '♢'), ('Q', '♢'), ('3', '♣'), ('4', '♢'), ('10', '♢'), ('Q', '♠'), ('8', '♣'), ('A', '♣'), ('3', '♡'), ('4', '♣'), ('A', '♠'), ('J', '♣'), ('5', '♠')]\n"
     ]
    }
   ],
   "source": [
    "def create_deck() -> Deck:\n",
    "    return [(rank, suit) for suit in suits for rank in ranks]\n",
    "\n",
    "def shuffle_deck(deck: Deck) -> None:\n",
    "    random.shuffle(deck)\n",
    "\n",
    "def deal_cards(deck: Deck, player_names: List[str]) -> Players:\n",
    "    num_players = len(player_names)\n",
    "    cards_per_player = len(deck) // num_players\n",
    "    players: Players = {\n",
    "        name: deck[i*cards_per_player:(i+1)*cards_per_player]\n",
    "        for i, name in enumerate(player_names)\n",
    "    }\n",
    "    return players\n",
    "\n",
    "def main() -> None:\n",
    "    deck: Deck = create_deck()\n",
    "    shuffle_deck(deck)\n",
    "    player_names: List[str] = [\"Alice\", \"Bob\", \"Charlie\", \"Diana\"]\n",
    "    players: Players = deal_cards(deck, player_names)\n",
    "    for name, hand in players.items():\n",
    "        print(f\"{name}: {hand}\")\n",
    "\n",
    "if __name__ == \"__main__\":\n",
    "    main()"
   ]
  }
 ],
 "metadata": {
  "kernelspec": {
   "display_name": "Python 3",
   "language": "python",
   "name": "python3"
  },
  "language_info": {
   "codemirror_mode": {
    "name": "ipython",
    "version": 3
   },
   "file_extension": ".py",
   "mimetype": "text/x-python",
   "name": "python",
   "nbconvert_exporter": "python",
   "pygments_lexer": "ipython3",
   "version": "3.12.3"
  }
 },
 "nbformat": 4,
 "nbformat_minor": 2
}
