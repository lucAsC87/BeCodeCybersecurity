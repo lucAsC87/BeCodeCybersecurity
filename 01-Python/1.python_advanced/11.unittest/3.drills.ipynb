{
 "cells": [
  {
   "cell_type": "markdown",
   "metadata": {},
   "source": [
    "# Drills - unit testing\n",
    "Now that you have the basics, let's do some drills!\n",
    "\n",
    "Create a unittest for each of these functions."
   ]
  },
  {
   "cell_type": "markdown",
   "metadata": {},
   "source": [
    "## Custom exception\n",
    "We define here some custom exception."
   ]
  },
  {
   "cell_type": "code",
   "execution_count": 2,
   "metadata": {},
   "outputs": [],
   "source": [
    "class InvalidArgumentException(Exception):\n",
    "    \"\"\"Raised when a param is invalid.\"\"\"\n",
    "\n",
    "    pass"
   ]
  },
  {
   "cell_type": "markdown",
   "metadata": {},
   "source": [
    "## Addition\n",
    "Check the result for those arguments:\n",
    "* `[1, 1]`\n",
    "* `[2, 3]`\n",
    "* `[5, 2]`\n",
    "* `[20, 4]`\n",
    "* `[0, 200]`\n",
    "* `[2999, 231234]`\n",
    "* `[0, 0]`\n",
    "\n",
    "In addition, create a test that checks that `InvalidArgumentException` is raised correctly if you give something else than an `int` to the function.\n",
    "Check for: `string, float, dict, list`"
   ]
  },
  {
   "cell_type": "code",
   "execution_count": 3,
   "metadata": {},
   "outputs": [],
   "source": [
    "def addition(number_one: int, number_two: int) -> int:\n",
    "    if not isinstance(number_one, int) or not isinstance(number_two, int):\n",
    "        raise InvalidArgumentException(\"A parameter is not an int!\")\n",
    "    return number_one + number_two"
   ]
  },
  {
   "cell_type": "code",
   "execution_count": 4,
   "metadata": {},
   "outputs": [
    {
     "name": "stderr",
     "output_type": "stream",
     "text": [
      ".\n",
      "----------------------------------------------------------------------\n",
      "Ran 1 test in 0.003s\n",
      "\n",
      "OK\n"
     ]
    }
   ],
   "source": [
    "# Add your unit test here\n",
    "import pytest\n",
    "import unittest\n",
    "\n",
    "class TestAddictionFunction(unittest.TestCase):\n",
    "\tdef test_add(self):\n",
    "\t\ttest1 = addition(1, 1)\n",
    "\t\ttest2 = addition(2, 3)\n",
    "\t\ttest3 = addition(5, 2)\n",
    "\t\ttest4 = addition(20, 4)\n",
    "\t\ttest5 = addition(0, 200)\n",
    "\t\ttest6 = addition(2999, 231234)\n",
    "\t\ttest7 = addition(0, 0)\n",
    "\n",
    "\t\tself.assertEqual(test1, 2)\n",
    "\t\tself.assertEqual(test2, 5)\n",
    "\t\tself.assertEqual(test3, 7)\n",
    "\t\tself.assertEqual(test4, 24)\n",
    "\t\tself.assertEqual(test5, 200)\n",
    "\t\tself.assertEqual(test6, 234233)\n",
    "\t\tself.assertEqual(test7, 0)\n",
    "\t\twith pytest.raises(InvalidArgumentException):\n",
    "\t\t\taddition(1, \"camel\")\n",
    "\t\t\taddition(1, 2.0)\n",
    "\t\t\taddition([\"camel\", \"zebra\", \"elephant\"], 1)\n",
    "\t\t\taddition({\"camel\": 1, \"zebra\": 2, \"elephant\": 3}, 1)\n",
    "\n",
    "if __name__ == \"__main__\":\n",
    "\tunittest.main(argv=[\"first-arg-is-ignored\"], exit=False)"
   ]
  },
  {
   "cell_type": "markdown",
   "metadata": {},
   "source": [
    "## Subtraction\n",
    "\n",
    "Check the result for those arguments:\n",
    "* `[1, 1]`\n",
    "* `[2, 3]`\n",
    "* `[5, 2]`\n",
    "* `[20, 4]`\n",
    "* `[0, 200]`\n",
    "* `[2999, 231234]`\n",
    "* `[0, 0]`\n",
    "\n",
    "In addition, create a test that checks that `InvalidArgumentException` is raised correctly if you give something else than an `int` to the function. Check for: string, float, dict, list."
   ]
  },
  {
   "cell_type": "code",
   "execution_count": 5,
   "metadata": {},
   "outputs": [],
   "source": [
    "def subtraction(number_one: int, number_two: int) -> int:\n",
    "    if not isinstance(number_one, int) or not isinstance(number_two, int):\n",
    "        raise InvalidArgumentException(\"A param is not an int!\")\n",
    "    return number_one - number_two"
   ]
  },
  {
   "cell_type": "code",
   "execution_count": 6,
   "metadata": {},
   "outputs": [
    {
     "name": "stderr",
     "output_type": "stream",
     "text": [
      "..\n",
      "----------------------------------------------------------------------\n",
      "Ran 2 tests in 0.006s\n",
      "\n",
      "OK\n"
     ]
    }
   ],
   "source": [
    "# Add your unit test here\n",
    "class TestSubtractionFunction(unittest.TestCase):\n",
    "\tdef test_add(self):\n",
    "\t\ttest1 = subtraction(1, 1)\n",
    "\t\ttest2 = subtraction(2, 3)\n",
    "\t\ttest3 = subtraction(5, 2)\n",
    "\t\ttest4 = subtraction(20, 4)\n",
    "\t\ttest5 = subtraction(0, 200)\n",
    "\t\ttest6 = subtraction(2999, 231234)\n",
    "\t\ttest7 = subtraction(0, 0)\n",
    "\n",
    "\t\tself.assertEqual(test1, 0)\n",
    "\t\tself.assertEqual(test2, -1)\n",
    "\t\tself.assertEqual(test3, 3)\n",
    "\t\tself.assertEqual(test4, 16)\n",
    "\t\tself.assertEqual(test5, -200)\n",
    "\t\tself.assertEqual(test6, -228235)\n",
    "\t\tself.assertEqual(test7, 0)\n",
    "\t\twith pytest.raises(InvalidArgumentException):\n",
    "\t\t\tsubtraction(1, \"camel\")\n",
    "\t\t\tsubtraction(1, 2.0)\n",
    "\t\t\tsubtraction({\"camel\": 1, \"zebra\": 2, \"elephant\": 3}, 1)\n",
    "\t\t\tsubtraction([\"camel\", \"zebra\", \"elephant\"], 1)\n",
    "\n",
    "if __name__ == \"__main__\":\n",
    "\tunittest.main(argv=[\"first-arg-is-ignored\"], exit=False)"
   ]
  },
  {
   "cell_type": "markdown",
   "metadata": {},
   "source": [
    "## Divide\n",
    "Here is a function that returns a float and can take a float or an int as parameter.\n",
    "\n",
    "Create a test that will check the result of those arguments:\n",
    "* `[1, 1]`\n",
    "* `[2, 3]`\n",
    "* `[5, 2]`\n",
    "* `[20, 4]`\n",
    "* `[0, 200]`\n",
    "* `[2999, 231234]`\n",
    "* `[0, 0]`\n",
    "* `[5, 0]`\n",
    "* `[5, \"9\"]`\n",
    "* `[5, [1, 2]]`\n",
    "* `[2, {\"param2\": 2}]`\n",
    "\n",
    "For each parameter, check that the result is the expected type (a string if one the arguments is bad, otherwise a float)."
   ]
  },
  {
   "cell_type": "code",
   "execution_count": 7,
   "metadata": {},
   "outputs": [],
   "source": [
    "from typing import Union\n",
    "\n",
    "\n",
    "def divide(\n",
    "    number_one: Union[int, float], number_two: Union[int, float]\n",
    ") -> Union[float, str]:\n",
    "    try:\n",
    "        result = number_one / number_two\n",
    "    except ZeroDivisionError:\n",
    "        result = \"You can't divide by zero!\"\n",
    "    except Exception as ex:\n",
    "        result = f\"An argument is not an int or a float! -> {ex}\"\n",
    "\n",
    "    return result"
   ]
  },
  {
   "cell_type": "code",
   "execution_count": 8,
   "metadata": {},
   "outputs": [
    {
     "name": "stderr",
     "output_type": "stream",
     "text": [
      "...\n",
      "----------------------------------------------------------------------\n",
      "Ran 3 tests in 0.004s\n",
      "\n",
      "OK\n"
     ]
    }
   ],
   "source": [
    "# Add your unit test here\n",
    "class TestDivideFunction(unittest.TestCase):\n",
    "\tdef test_add(self):\n",
    "\t\ttest1 = divide(1, 1)\n",
    "\t\ttest2 = divide(2, 3)\n",
    "\t\ttest3 = divide(5, 2)\n",
    "\t\ttest4 = divide(20, 4)\n",
    "\t\ttest5 = divide(0, 200)\n",
    "\t\ttest6 = divide(2999, 231234)\n",
    "\n",
    "\t\tself.assertEqual(test1, 1.0)\n",
    "\t\tself.assertEqual(test2, 0.6666666666666666)\n",
    "\t\tself.assertEqual(test3, 2.5)\n",
    "\t\tself.assertEqual(test4, 5.0)\n",
    "\t\tself.assertEqual(test5, 0.0)\n",
    "\t\tself.assertEqual(test6, 0.012969546001020611)\n",
    "\n",
    "\t\tself.assertIsInstance(divide(0, 0), str)\n",
    "\t\tself.assertEqual(divide(0, 0), \"You can't divide by zero!\")\n",
    "\t\tself.assertIsInstance(divide(5, 0), str)\n",
    "\t\tself.assertEqual(divide(5, 0), \"You can't divide by zero!\")\n",
    "\n",
    "\t\tself.assertIsInstance(divide(5, \"9\"), str)\n",
    "\t\tself.assertTrue(\"An argument is not an int or a float!\" in divide(5, \"9\"))\n",
    "\t\tself.assertIsInstance(divide(5, [1, 2]), str)\n",
    "\t\tself.assertTrue(\"An argument is not an int or a float!\" in divide(5, [1, 2]))\n",
    "\t\tself.assertIsInstance(divide(2, {\"param2\": 2}), str)\n",
    "\t\tself.assertTrue(\"An argument is not an int or a float!\" in divide(2, {\"param2\": 2}))\n",
    "\n",
    "if __name__ == \"__main__\":\n",
    "\tunittest.main(argv=[\"first-arg-is-ignored\"], exit=False)"
   ]
  },
  {
   "cell_type": "markdown",
   "metadata": {},
   "source": [
    "## File handling\n",
    "\n",
    "1. Create a function `create_and_delete_test_file()` that creates a new file named `test.txt`, adds `'this is a text'` in it then deletes the file.\n",
    "2. Create a test that checks if the file is well created.\n",
    "3. Create a test to check that the content of the file is `'this is a text'`. You will need to find a way to prevent the function to delete the file during this specific test.\n",
    "4. Create a test to check that the function deletes the file."
   ]
  },
  {
   "cell_type": "code",
   "execution_count": 14,
   "metadata": {},
   "outputs": [],
   "source": [
    "import os\n",
    "# Create create_and_delete_test_file()\n",
    "def create_and_delete_test_file():\n",
    "    with open(\"test.txt\", \"a\") as my_file:\n",
    "        my_file.write(\"this is a text\")\n",
    "    os.remove(\"test.txt\")\n",
    "\n",
    "create_and_delete_test_file()"
   ]
  },
  {
   "cell_type": "code",
   "execution_count": 15,
   "metadata": {},
   "outputs": [
    {
     "name": "stderr",
     "output_type": "stream",
     "text": [
      "......\n",
      "----------------------------------------------------------------------\n",
      "Ran 6 tests in 0.033s\n",
      "\n",
      "OK\n"
     ]
    }
   ],
   "source": [
    "# Add your unit test here\n",
    "from unittest import mock\n",
    "\n",
    "class TestFileHandling(unittest.TestCase):\n",
    "    def setUp(self):\n",
    "        # Rimuovi il file se esiste prima di ogni test\n",
    "        if os.path.exists(\"test.txt\"):\n",
    "            os.remove(\"test.txt\")\n",
    "\n",
    "    def tearDown(self):\n",
    "        # Pulisci dopo ogni test\n",
    "        if os.path.exists(\"test.txt\"):\n",
    "            os.remove(\"test.txt\")\n",
    "\n",
    "    def test_file_is_created(self):\n",
    "        # Mock di os.remove per evitare la cancellazione\n",
    "        with mock.patch(\"os.remove\") as mock_remove:\n",
    "            create_and_delete_test_file()\n",
    "            self.assertTrue(os.path.exists(\"test.txt\"))\n",
    "            mock_remove.assert_called_once_with(\"test.txt\")\n",
    "\n",
    "    def test_file_content(self):\n",
    "        # Mock di os.remove per evitare la cancellazione\n",
    "        with mock.patch(\"os.remove\"):\n",
    "            create_and_delete_test_file()\n",
    "            with open(\"test.txt\", \"r\") as f:\n",
    "                content = f.read()\n",
    "            self.assertEqual(content, \"this is a text\")\n",
    "\n",
    "    def test_file_is_deleted(self):\n",
    "        create_and_delete_test_file()\n",
    "        self.assertFalse(os.path.exists(\"test.txt\"))\n",
    "\n",
    "if __name__ == \"__main__\":\n",
    "    unittest.main(argv=[\"first-arg-is-ignored\"], exit=False)"
   ]
  },
  {
   "cell_type": "markdown",
   "metadata": {},
   "source": [
    "You might have noticed that it is quite difficult to make the unit tests work for such a complicated function.\n",
    "How about separating the concern and creating separate functions for each particular action ?"
   ]
  },
  {
   "cell_type": "code",
   "execution_count": null,
   "metadata": {},
   "outputs": [],
   "source": []
  }
 ],
 "metadata": {
  "kernelspec": {
   "display_name": "Python 3",
   "language": "python",
   "name": "python3"
  },
  "language_info": {
   "codemirror_mode": {
    "name": "ipython",
    "version": 3
   },
   "file_extension": ".py",
   "mimetype": "text/x-python",
   "name": "python",
   "nbconvert_exporter": "python",
   "pygments_lexer": "ipython3",
   "version": "3.12.3"
  }
 },
 "nbformat": 4,
 "nbformat_minor": 4
}
