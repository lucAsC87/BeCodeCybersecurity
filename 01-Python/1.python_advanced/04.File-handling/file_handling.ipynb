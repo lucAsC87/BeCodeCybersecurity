{
 "cells": [
  {
   "cell_type": "markdown",
   "metadata": {},
   "source": [
    "# Read and write files"
   ]
  },
  {
   "cell_type": "markdown",
   "metadata": {},
   "source": [
    "We have made good progress and now we can get down to the more serious task of manipulating files. This is one of the very important points concerning this training. \n",
    "\n",
    "\n",
    "N.B: Most of the files in `./data/` are files that we will use to understand how file opening works. They don't have a special purpose other than that. "
   ]
  },
  {
   "cell_type": "markdown",
   "metadata": {},
   "source": [
    "To open/edit a file in python we use the `open()` function.\n",
    "\n",
    "This function takes as first parameter the path of the file (*relative* or *absolute*) and as second parameter the type of opening, i.e. reading or writing mode.\n",
    "\n",
    "*A relative path in computing is a path that takes into account the current location.*\n",
    "The path is **relative** to where it is called from.\n",
    "\n",
    "*An absolute path is a complete path that can be read regardless of the reading location.*\n",
    "\n"
   ]
  },
  {
   "cell_type": "code",
   "metadata": {
    "ExecuteTime": {
     "end_time": "2025-05-26T15:29:18.999265Z",
     "start_time": "2025-05-26T15:29:18.984446Z"
    }
   },
   "source": [
    "filename = \"./data/data.txt\"\n",
    "my_file = open(filename, \"r\")  # r for \"read\""
   ],
   "outputs": [],
   "execution_count": 2
  },
  {
   "cell_type": "markdown",
   "metadata": {},
   "source": [
    "- `\"r\"`, for a read opening (READ).\n",
    "\n",
    "- `\"w\"`, for a write opening (WRITE), each time the file is opened, the content of the file is overwritten. If the file does not exist, Python creates it. \n",
    "\n",
    "    *The Python docs say that `w+` will \"overwrite the existing file if the file exists\". So as soon as you open a file with `w+`, it is now an empty file: it contains 0 bytes. If it used to contain data, that data has been truncated — cut off and thrown away — and now the file size is 0 bytes, so you can't read any of the data that existed before you opened the file with `w+`. If you actually wanted to read the previous data and add to it, you should use `r+` instead of `w+`* [[Source]](https://stackoverflow.com/questions/16208206/confused-by-python-file-mode-w#comment83227862_16208298)\n",
    "    \n",
    "    \n",
    "\n",
    "- `\"a\"`, for an opening in add mode at the end of the file (APPEND). If the file does not exist, Python creates it.\n",
    "\n",
    "- `\"x\"`, creates a new file and opens it for writing\n",
    "\n",
    "You can also append the character `+` and `b` to nearly all of the above commands. [[More info here]](https://stackabuse.com/file-handling-in-python/)"
   ]
  },
  {
   "cell_type": "markdown",
   "metadata": {},
   "source": [
    "Like any open element, it must be closed again once the instructions have been completed. To do this, we use the `close()` method."
   ]
  },
  {
   "cell_type": "code",
   "metadata": {
    "ExecuteTime": {
     "end_time": "2025-05-26T13:38:49.766629Z",
     "start_time": "2025-05-26T13:38:49.761006Z"
    }
   },
   "source": [
    "my_file.close()"
   ],
   "outputs": [],
   "execution_count": 3
  },
  {
   "cell_type": "code",
   "metadata": {
    "ExecuteTime": {
     "end_time": "2025-05-26T13:38:50.963323Z",
     "start_time": "2025-05-26T13:38:50.944774Z"
    }
   },
   "source": [
    "# Let's find out what's going on there\n",
    "my_file = open(filename, \"r\")\n",
    "print(my_file.read())\n",
    "my_file.close()"
   ],
   "outputs": [
    {
     "name": "stdout",
     "output_type": "stream",
     "text": [
      "Hi everyone, I'm adding sentences to the file !\n"
     ]
    }
   ],
   "execution_count": 4
  },
  {
   "cell_type": "markdown",
   "metadata": {},
   "source": [
    "Another possibility of opening without closing. That's a **best practice** and you should use that as much as you can."
   ]
  },
  {
   "cell_type": "code",
   "metadata": {
    "ExecuteTime": {
     "end_time": "2025-05-26T13:38:53.467767Z",
     "start_time": "2025-05-26T13:38:53.450240Z"
    }
   },
   "source": [
    "with open(filename, \"r\") as my_file:\n",
    "    print(my_file.read())"
   ],
   "outputs": [
    {
     "name": "stdout",
     "output_type": "stream",
     "text": [
      "Hi everyone, I'm adding sentences to the file !\n"
     ]
    }
   ],
   "execution_count": 5
  },
  {
   "cell_type": "markdown",
   "metadata": {},
   "source": [
    "**Can you put the contents of this file in the form of a list in which each element is a sentence ?**\n",
    "*(Use `.split()` for example...)*"
   ]
  },
  {
   "cell_type": "code",
   "metadata": {
    "ExecuteTime": {
     "end_time": "2025-05-26T13:52:17.702614Z",
     "start_time": "2025-05-26T13:52:17.684274Z"
    }
   },
   "source": [
    "# YOUR CODE HERE\n",
    "with open(filename, \"r\") as my_file:\n",
    "    for line in my_file:\n",
    "        file_list = line.split(\",\")\n",
    "print(file_list)"
   ],
   "outputs": [
    {
     "name": "stdout",
     "output_type": "stream",
     "text": [
      "['Hi everyone', \" I'm adding sentences to the file !\"]\n"
     ]
    }
   ],
   "execution_count": 18
  },
  {
   "cell_type": "markdown",
   "metadata": {},
   "source": [
    "To write in a file, just open a file (existing or not), write in it and close it. We open it in mode `\"w\"` so that the previous data is deleted and new data can be added."
   ]
  },
  {
   "cell_type": "code",
   "metadata": {
    "ExecuteTime": {
     "end_time": "2025-05-26T13:46:52.451099Z",
     "start_time": "2025-05-26T13:46:52.433286Z"
    }
   },
   "source": [
    "file = open(filename, \"w\")\n",
    "file.write(\"Hi everyone, I'm adding sentences to the file !\")\n",
    "file.close()"
   ],
   "outputs": [],
   "execution_count": 12
  },
  {
   "cell_type": "markdown",
   "metadata": {},
   "source": [
    "Can you take the content of the `data.txt` file from the `.data/` directory, capitalize all the words and write them in the file that you created just before, after the sentences you added?\n"
   ]
  },
  {
   "cell_type": "code",
   "metadata": {
    "ExecuteTime": {
     "end_time": "2025-05-26T13:57:03.262336Z",
     "start_time": "2025-05-26T13:57:03.247546Z"
    }
   },
   "source": [
    "# It's up to you to write the end\n",
    "array = []\n",
    "with open(filename, \"r+\") as input_file:\n",
    "    new_file = open(\"new_data.txt\", \"w\")\n",
    "    for line in input_file:\n",
    "        new_file.write(line.upper())\n",
    "    new_file.close()"
   ],
   "outputs": [],
   "execution_count": 21
  },
  {
   "cell_type": "markdown",
   "metadata": {},
   "source": [
    "## Management of directory paths..."
   ]
  },
  {
   "cell_type": "markdown",
   "metadata": {},
   "source": [
    "The `os` module is a library that provides a portable way of using operating system dependent functionality.\n",
    "In this chapter, we are interested in using its powerful file path handling capabilities using `os.path`."
   ]
  },
  {
   "cell_type": "code",
   "metadata": {
    "ExecuteTime": {
     "end_time": "2025-05-26T15:29:26.483223Z",
     "start_time": "2025-05-26T15:29:26.473660Z"
    }
   },
   "source": [
    "import os"
   ],
   "outputs": [],
   "execution_count": 3
  },
  {
   "cell_type": "markdown",
   "metadata": {},
   "source": [
    "Each file or folder is associated with a kind of address that makes it easy to find it without errors. It is not possible to have a file with an identical name as another inside the same folder (except if the file extension is different).\n",
    "\n",
    "As said before, there are two kinds of paths: the absolute path from the root of your file system and the relative path from the folder being read."
   ]
  },
  {
   "cell_type": "markdown",
   "metadata": {},
   "source": [
    "By using `help` function, we can see the available methods."
   ]
  },
  {
   "cell_type": "code",
   "metadata": {
    "ExecuteTime": {
     "end_time": "2025-05-26T15:29:31.914311Z",
     "start_time": "2025-05-26T15:29:31.897717Z"
    }
   },
   "source": [
    "help(os.path)"
   ],
   "outputs": [
    {
     "name": "stdout",
     "output_type": "stream",
     "text": [
      "Help on module posixpath:\n",
      "\n",
      "NAME\n",
      "    posixpath - Common operations on Posix pathnames.\n",
      "\n",
      "MODULE REFERENCE\n",
      "    https://docs.python.org/3.12/library/posixpath.html\n",
      "\n",
      "    The following documentation is automatically generated from the Python\n",
      "    source files.  It may be incomplete, incorrect or include features that\n",
      "    are considered implementation detail and may vary between Python\n",
      "    implementations.  When in doubt, consult the module reference at the\n",
      "    location listed above.\n",
      "\n",
      "DESCRIPTION\n",
      "    Instead of importing this module directly, import os and refer to\n",
      "    this module as os.path.  The \"os.path\" name is an alias for this\n",
      "    module on Posix systems; on other systems (e.g. Windows),\n",
      "    os.path provides the same operations in a manner specific to that\n",
      "    platform, and is an alias to another module (e.g. ntpath).\n",
      "\n",
      "    Some of this can actually be useful on non-Posix systems too, e.g.\n",
      "    for manipulation of the pathname component of URLs.\n",
      "\n",
      "FUNCTIONS\n",
      "    abspath(path)\n",
      "        Return an absolute path.\n",
      "\n",
      "    basename(p)\n",
      "        Returns the final component of a pathname\n",
      "\n",
      "    commonpath(paths)\n",
      "        Given a sequence of path names, returns the longest common sub-path.\n",
      "\n",
      "    commonprefix(m)\n",
      "        Given a list of pathnames, returns the longest common leading component\n",
      "\n",
      "    dirname(p)\n",
      "        Returns the directory component of a pathname\n",
      "\n",
      "    exists(path)\n",
      "        Test whether a path exists.  Returns False for broken symbolic links\n",
      "\n",
      "    expanduser(path)\n",
      "        Expand ~ and ~user constructions.  If user or $HOME is unknown,\n",
      "        do nothing.\n",
      "\n",
      "    expandvars(path)\n",
      "        Expand shell variables of form $var and ${var}.  Unknown variables\n",
      "        are left unchanged.\n",
      "\n",
      "    getatime(filename)\n",
      "        Return the last access time of a file, reported by os.stat().\n",
      "\n",
      "    getctime(filename)\n",
      "        Return the metadata change time of a file, reported by os.stat().\n",
      "\n",
      "    getmtime(filename)\n",
      "        Return the last modification time of a file, reported by os.stat().\n",
      "\n",
      "    getsize(filename)\n",
      "        Return the size of a file, reported by os.stat().\n",
      "\n",
      "    isabs(s)\n",
      "        Test whether a path is absolute\n",
      "\n",
      "    isdir(s)\n",
      "        Return true if the pathname refers to an existing directory.\n",
      "\n",
      "    isfile(path)\n",
      "        Test whether a path is a regular file\n",
      "\n",
      "    isjunction(path)\n",
      "        Test whether a path is a junction\n",
      "        Junctions are not a part of posix semantics\n",
      "\n",
      "    islink(path)\n",
      "        Test whether a path is a symbolic link\n",
      "\n",
      "    ismount(path)\n",
      "        Test whether a path is a mount point\n",
      "\n",
      "    join(a, *p)\n",
      "        Join two or more pathname components, inserting '/' as needed.\n",
      "        If any component is an absolute path, all previous path components\n",
      "        will be discarded.  An empty last part will result in a path that\n",
      "        ends with a separator.\n",
      "\n",
      "    lexists(path)\n",
      "        Test whether a path exists.  Returns True for broken symbolic links\n",
      "\n",
      "    normcase(s)\n",
      "        Normalize case of pathname.  Has no effect under Posix\n",
      "\n",
      "    normpath(path)\n",
      "        Normalize path, eliminating double slashes, etc.\n",
      "\n",
      "    realpath(filename, *, strict=False)\n",
      "        Return the canonical path of the specified filename, eliminating any\n",
      "        symbolic links encountered in the path.\n",
      "\n",
      "    relpath(path, start=None)\n",
      "        Return a relative version of a path\n",
      "\n",
      "    samefile(f1, f2)\n",
      "        Test whether two pathnames reference the same actual file or directory\n",
      "\n",
      "        This is determined by the device number and i-node number and\n",
      "        raises an exception if an os.stat() call on either pathname fails.\n",
      "\n",
      "    sameopenfile(fp1, fp2)\n",
      "        Test whether two open file objects reference the same file\n",
      "\n",
      "    samestat(s1, s2)\n",
      "        Test whether two stat buffers reference the same file\n",
      "\n",
      "    split(p)\n",
      "        Split a pathname.  Returns tuple \"(head, tail)\" where \"tail\" is\n",
      "        everything after the final slash.  Either part may be empty.\n",
      "\n",
      "    splitdrive(p)\n",
      "        Split a pathname into drive and path. On Posix, drive is always\n",
      "        empty.\n",
      "\n",
      "    splitext(p)\n",
      "        Split the extension from a pathname.\n",
      "\n",
      "        Extension is everything from the last dot to the end, ignoring\n",
      "        leading dots.  Returns \"(root, ext)\"; ext may be empty.\n",
      "\n",
      "    splitroot(p)\n",
      "        Split a pathname into drive, root and tail. On Posix, drive is always\n",
      "        empty; the root may be empty, a single slash, or two slashes. The tail\n",
      "        contains anything after the root. For example:\n",
      "\n",
      "            splitroot('foo/bar') == ('', '', 'foo/bar')\n",
      "            splitroot('/foo/bar') == ('', '/', 'foo/bar')\n",
      "            splitroot('//foo/bar') == ('', '//', 'foo/bar')\n",
      "            splitroot('///foo/bar') == ('', '/', '//foo/bar')\n",
      "\n",
      "DATA\n",
      "    __all__ = ['normcase', 'isabs', 'join', 'splitdrive', 'splitroot', 'sp...\n",
      "    altsep = None\n",
      "    curdir = '.'\n",
      "    defpath = '/bin:/usr/bin'\n",
      "    devnull = '/dev/null'\n",
      "    extsep = '.'\n",
      "    pardir = '..'\n",
      "    pathsep = ':'\n",
      "    sep = '/'\n",
      "    supports_unicode_filenames = False\n",
      "\n",
      "FILE\n",
      "    /usr/lib/python3.12/posixpath.py\n",
      "\n",
      "\n"
     ]
    }
   ],
   "execution_count": 4
  },
  {
   "cell_type": "markdown",
   "metadata": {},
   "source": [
    "To know your current absolute path, use `abspath('')`"
   ]
  },
  {
   "cell_type": "code",
   "metadata": {
    "ExecuteTime": {
     "end_time": "2025-05-26T15:29:35.338181Z",
     "start_time": "2025-05-26T15:29:35.329035Z"
    }
   },
   "source": [
    "# In Python a path is a string, so there are methods to manipulate it.\n",
    "path = os.path.abspath(\"\")\n",
    "print(path)\n",
    "print(type(path))"
   ],
   "outputs": [
    {
     "name": "stdout",
     "output_type": "stream",
     "text": [
      "/home/lucasc87/Documenti/BeCode/BXL-Kamkar4-2025/01-Python/1.python_advanced/04.File-handling\n",
      "<class 'str'>\n"
     ]
    }
   ],
   "execution_count": 5
  },
  {
   "cell_type": "markdown",
   "metadata": {},
   "source": [
    " To know the part of the path that consists of directories, use `dirname(path)`."
   ]
  },
  {
   "cell_type": "code",
   "metadata": {
    "ExecuteTime": {
     "end_time": "2025-05-26T15:32:05.626845Z",
     "start_time": "2025-05-26T15:32:05.600105Z"
    }
   },
   "source": [
    "os.path.dirname(path)"
   ],
   "outputs": [
    {
     "data": {
      "text/plain": [
       "'/home/lucasc87/Documenti/BeCode/BXL-Kamkar4-2025/01-Python/1.python_advanced'"
      ]
     },
     "execution_count": 6,
     "metadata": {},
     "output_type": "execute_result"
    }
   ],
   "execution_count": 6
  },
  {
   "cell_type": "markdown",
   "metadata": {},
   "source": [
    "To only get the filename, use `basename(path)`."
   ]
  },
  {
   "cell_type": "code",
   "metadata": {
    "ExecuteTime": {
     "end_time": "2025-05-26T15:32:08.056090Z",
     "start_time": "2025-05-26T15:32:08.049599Z"
    }
   },
   "source": [
    "os.path.basename(path)"
   ],
   "outputs": [
    {
     "data": {
      "text/plain": [
       "'04.File-handling'"
      ]
     },
     "execution_count": 7,
     "metadata": {},
     "output_type": "execute_result"
    }
   ],
   "execution_count": 7
  },
  {
   "cell_type": "markdown",
   "metadata": {},
   "source": [
    "To add a directory, let's say `\"text\"` to the path, we use `join()`. \n",
    "\n",
    "The cool thing is that it is compatible across operating systems. Meaning that on Windows it will automatically add `\\` between the arguments of `os.path.join`, and on Linux it will add `/`. The same code thus works on every operating system!"
   ]
  },
  {
   "cell_type": "code",
   "metadata": {
    "ExecuteTime": {
     "end_time": "2025-05-26T15:32:10.473841Z",
     "start_time": "2025-05-26T15:32:10.463495Z"
    }
   },
   "source": [
    "rep_text = os.path.join(path, \"text\")\n",
    "print(rep_text)"
   ],
   "outputs": [
    {
     "name": "stdout",
     "output_type": "stream",
     "text": [
      "/home/lucasc87/Documenti/BeCode/BXL-Kamkar4-2025/01-Python/1.python_advanced/04.File-handling/text\n"
     ]
    }
   ],
   "execution_count": 8
  },
  {
   "cell_type": "markdown",
   "metadata": {},
   "source": [
    "To retrieve all the elements of a folder as a list, you can use the `listdir()` method."
   ]
  },
  {
   "cell_type": "code",
   "metadata": {
    "ExecuteTime": {
     "end_time": "2025-05-26T15:32:12.157002Z",
     "start_time": "2025-05-26T15:32:12.140316Z"
    }
   },
   "source": [
    "# Items are returned as a list and includes folders and hidden files.\n",
    "os.listdir(\"../\")"
   ],
   "outputs": [
    {
     "data": {
      "text/plain": [
       "['08.Typing',\n",
       " '02.Exception-handling',\n",
       " '09.Good_practices',\n",
       " '07.Decorator',\n",
       " '05.Scraping',\n",
       " '06.Threading',\n",
       " '11.unittest',\n",
       " '03.Regex',\n",
       " '10.Data-structure',\n",
       " '12.Flask',\n",
       " '04.File-handling',\n",
       " '01.OOP']"
      ]
     },
     "execution_count": 9,
     "metadata": {},
     "output_type": "execute_result"
    }
   ],
   "execution_count": 9
  },
  {
   "cell_type": "markdown",
   "metadata": {},
   "source": [
    "### How to display all the elements of a folder as well as its child folders? \n",
    "\n",
    "With the `walk()` function:\n",
    "\n",
    "```\n",
    "walk(top, topdown=True, onerror=None, followlinks=False)\n",
    "```\n"
   ]
  },
  {
   "cell_type": "code",
   "metadata": {
    "ExecuteTime": {
     "end_time": "2025-05-26T15:32:18.888625Z",
     "start_time": "2025-05-26T15:32:18.865853Z"
    }
   },
   "source": [
    "folder_path = os.path.abspath(\"./\")\n",
    "print(folder_path)\n",
    "\n",
    "for path, dirs, files in os.walk(folder_path):\n",
    "    for filename in files:\n",
    "        print(filename)"
   ],
   "outputs": [
    {
     "name": "stdout",
     "output_type": "stream",
     "text": [
      "/home/lucasc87/Documenti/BeCode/BXL-Kamkar4-2025/01-Python/1.python_advanced/04.File-handling\n",
      "new_data.txt\n",
      "final.txt\n",
      "file_handling.ipynb\n",
      "file_handling-checkpoint.ipynb\n",
      "comptagevelo2017.xlsx\n",
      "data.txt\n",
      "VOEUX01.txt\n",
      "VOEUX89.txt\n",
      "VOEUX87.txt\n",
      "comptagevelo2017.csv\n",
      "weather_2017.csv\n",
      "L'équipe,du sport en continu..html\n",
      "write.txt\n",
      "VOEUX07.txt\n",
      "mail.txt\n",
      "VOEUX94.txt\n",
      "VOEUX83.txt\n",
      "VOEUX74.txt\n",
      "VOEUX79.txt\n",
      "discours_politicien.zip\n",
      "VOEUX09.txt\n",
      "VOEUX90.txt\n",
      "VOEUX75.txt\n",
      "VOEUX06.txt\n",
      "VOEUX05.txt\n",
      "VOEUX08.txt\n",
      "weather_2012.csv\n",
      "140(4).jpg\n",
      "wonderpush.min.html\n",
      "275(5).jpg\n",
      "3c6f0.jpg\n",
      "getids\n",
      "html_inpage_rendering_lib_200_243.js\n",
      "6uQTKQJz.html\n",
      "67b5b.jpg\n",
      "f(7).txt\n",
      "140(1).jpg\n",
      "6uQTKQJz(1).html\n",
      "2402-245398-48616-4(1).gif\n",
      "fbevents.js\n",
      "f(2).txt\n",
      "6f4bb.jpg\n",
      "styles.css\n",
      "ads-cch-20181026165210.js\n",
      "6636b.jpg\n",
      "140(2).jpg\n",
      "3b4c8.jpg\n",
      "gen_204(1).gif\n",
      "275.jpg\n",
      "widgetGlobalEvent\n",
      "gather_id(1)\n",
      "V6zvOIoD.js\n",
      "0d3f9.png\n",
      "140(8).jpg\n",
      "226ee.jpg\n",
      "gather_id\n",
      "guid.html\n",
      "0a315.jpg\n",
      "44ddc.jpg\n",
      "140(9).jpg\n",
      "wonderpush.min.js\n",
      "f(3).txt\n",
      "get\n",
      "gen_204.gif\n",
      "275(3).jpg\n",
      "widgetGlobalEvent(2)\n",
      "4f412.jpg\n",
      "f(9).txt\n",
      "fb0a7.jpg\n",
      "140(11).jpg\n",
      "f21a9.jpg\n",
      "SVG-EFR(1).svg\n",
      "1ce06.jpg\n",
      "f(4).txt\n",
      "140(7).jpg\n",
      "275(4).jpg\n",
      "140(3).jpg\n",
      "get(1)\n",
      "0f245.jpg\n",
      "140.jpg\n",
      "f(6).txt\n",
      "275(1).jpg\n",
      "140(10).jpg\n",
      "1x1.a\n",
      "gpt.js\n",
      "widget.css\n",
      "800(1).jpg\n",
      "get(2)\n",
      "SVG-EFR.svg\n",
      "140(6).jpg\n",
      "201b8.jpg\n",
      "widget.js\n",
      "f(5).txt\n",
      "20d4b.jpg\n",
      "30b06.jpg\n",
      "f.txt\n",
      "140(5).jpg\n",
      "f3de7.jpg\n",
      "wamfactory_dpm.lequipe.min.js\n",
      "0CA20181029124202ADs201810291242024F98d8q4aBxcs.js\n",
      "800.jpg\n",
      "f(10).txt\n",
      "widgetGlobalEvent(1)\n",
      "f(8).txt\n",
      "125278988146629\n",
      "wonderpush-loader.min.js\n",
      "tag.min.js\n",
      "275(2).jpg\n",
      "49d3b.jpg\n",
      "hudactive.html\n",
      "2402-245398-48616-4.gif\n",
      "110.png\n"
     ]
    }
   ],
   "execution_count": 10
  },
  {
   "cell_type": "markdown",
   "metadata": {},
   "source": [
    "Put all the **`.txt` files** from the `data/` directory into a variable.\n",
    "    Then, copy the content of all the files from this variable into a file in `data/` that you will name `final.txt`.\n"
   ]
  },
  {
   "cell_type": "code",
   "metadata": {
    "ExecuteTime": {
     "end_time": "2025-05-26T15:32:23.984382Z",
     "start_time": "2025-05-26T15:32:23.972913Z"
    }
   },
   "source": [
    "folder_data = os.path.abspath(\"./data\")\n",
    "list_files = []\n",
    "for path, dirs, files in os.walk(folder_data):\n",
    "    for filename in files:\n",
    "        if filename.endswith(\".txt\"):\n",
    "            list_files.append(filename)\n",
    "list_file = open(\"final.txt\", \"w\")\n",
    "for element in list_files:\n",
    "        list_file.write(element + \"\\n\")\n",
    "list_file.close()"
   ],
   "outputs": [],
   "execution_count": 12
  },
  {
   "cell_type": "markdown",
   "metadata": {},
   "source": [
    "New task. Using a loop, can you open all the files from your `data/` directory and save all their contents in a variable ?"
   ]
  },
  {
   "cell_type": "code",
   "metadata": {
    "ExecuteTime": {
     "end_time": "2025-05-26T15:35:29.156828Z",
     "start_time": "2025-05-26T15:35:28.518006Z"
    }
   },
   "source": [
    "origin_folder = os.path.abspath(\"./data\")\n",
    "list_content = []\n",
    "for path, dirs, files in os.walk(origin_folder):\n",
    "    for filename in files:\n",
    "        file_path = os.path.join(path, filename)\n",
    "        with open(file_path, \"r\", encoding=\"utf-8\", errors=\"replace\") as file_content:\n",
    "            list_content.append(file_content.read())\n",
    "\n",
    "print(list_content)"
   ],
   "outputs": [
    {
     "name": "stderr",
     "output_type": "stream",
     "text": [
      "IOPub data rate exceeded.\n",
      "The Jupyter server will temporarily stop sending output\n",
      "to the client in order to avoid crashing it.\n",
      "To change this limit, set the config variable\n",
      "`--ServerApp.iopub_data_rate_limit`.\n",
      "\n",
      "Current values:\n",
      "ServerApp.iopub_data_rate_limit=1000000.0 (bytes/sec)\n",
      "ServerApp.rate_limit_window=3.0 (secs)\n",
      "\n"
     ]
    }
   ],
   "execution_count": 17
  },
  {
   "cell_type": "markdown",
   "metadata": {},
   "source": [
    "Finally, save this concatenated information (assemblies) in a new file."
   ]
  },
  {
   "cell_type": "code",
   "execution_count": null,
   "metadata": {},
   "outputs": [],
   "source": []
  }
 ],
 "metadata": {
  "kernelspec": {
   "display_name": "Python 3 (ipykernel)",
   "language": "python",
   "name": "python3"
  },
  "language_info": {
   "codemirror_mode": {
    "name": "ipython",
    "version": 3
   },
   "file_extension": ".py",
   "mimetype": "text/x-python",
   "name": "python",
   "nbconvert_exporter": "python",
   "pygments_lexer": "ipython3",
   "version": "3.12.3"
  }
 },
 "nbformat": 4,
 "nbformat_minor": 2
}
