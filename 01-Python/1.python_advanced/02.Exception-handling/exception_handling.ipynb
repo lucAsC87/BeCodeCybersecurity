{
 "cells": [
  {
   "cell_type": "markdown",
   "metadata": {},
   "source": [
    "# Exception handling"
   ]
  },
  {
   "cell_type": "markdown",
   "metadata": {},
   "source": [
    "Exception handling allows a program to deal with runtime errors and continue its normal execution.\n",
    "Consider the following instructions:\n"
   ]
  },
  {
   "cell_type": "code",
   "execution_count": null,
   "metadata": {},
   "outputs": [],
   "source": [
    "a = input(\"Enter integer: \")\n",
    "num = int(a)\n",
    "inverse = 1 / num\n",
    "print(number, inverse)"
   ]
  },
  {
   "cell_type": "markdown",
   "metadata": {},
   "source": [
    "What happens if the user enters a null or non-numeric value? The program will stop and raise an error as shown below."
   ]
  },
  {
   "cell_type": "markdown",
   "metadata": {},
   "source": [
    "```\n",
    "Traceback (most recent call last):\n",
    "File \"\", line 3, in\n",
    "<u>ZeroDivisionError: division by zero</u>\n",
    "```"
   ]
  },
  {
   "cell_type": "markdown",
   "metadata": {},
   "source": [
    "```\n",
    "Traceback (most recent call last):\n",
    "File \"\", line 2, in\n",
    "<b>ValueError: invalid literal for int() with base 10: 'sss'</b>\n",
    "```"
   ]
  },
  {
   "cell_type": "markdown",
   "metadata": {},
   "source": [
    "Error messages provide information about the line that caused the error by tracing back to the function calls that lead to this instruction. The line numbers of the function calls are displayed in the error message to enable quick correction of the code.  \n",
    "\n",
    "An error that occurs during execution is also called an exception. How can you deal with an exception so that the program can catch the error and prompt the user to enter a correct number?\n"
   ]
  },
  {
   "cell_type": "markdown",
   "metadata": {},
   "source": [
    "## try and except\n",
    "See the difference. \n",
    "in the first case, the program crashes and the last `print(\"finished\")` instruction did not execute.  "
   ]
  },
  {
   "cell_type": "code",
   "metadata": {
    "ExecuteTime": {
     "end_time": "2025-05-26T07:47:09.478751Z",
     "start_time": "2025-05-26T07:47:09.229774Z"
    }
   },
   "source": [
    "3 / 0\n",
    "print(\"Finished\")"
   ],
   "outputs": [
    {
     "ename": "ZeroDivisionError",
     "evalue": "division by zero",
     "output_type": "error",
     "traceback": [
      "\u001B[31m---------------------------------------------------------------------------\u001B[39m",
      "\u001B[31mZeroDivisionError\u001B[39m                         Traceback (most recent call last)",
      "\u001B[36mCell\u001B[39m\u001B[36m \u001B[39m\u001B[32mIn[1]\u001B[39m\u001B[32m, line 1\u001B[39m\n\u001B[32m----> \u001B[39m\u001B[32m1\u001B[39m \u001B[32;43m3\u001B[39;49m\u001B[43m \u001B[49m\u001B[43m/\u001B[49m\u001B[43m \u001B[49m\u001B[32;43m0\u001B[39;49m\n\u001B[32m      2\u001B[39m \u001B[38;5;28mprint\u001B[39m(\u001B[33m\"\u001B[39m\u001B[33mFinished\u001B[39m\u001B[33m\"\u001B[39m)\n",
      "\u001B[31mZeroDivisionError\u001B[39m: division by zero"
     ]
    }
   ],
   "execution_count": 1
  },
  {
   "cell_type": "markdown",
   "metadata": {},
   "source": [
    "If the `try` instruction is used, the error is caught in the `except` clause, and the body of the `except` clause is executed. The program is not interrupted. "
   ]
  },
  {
   "cell_type": "code",
   "metadata": {
    "ExecuteTime": {
     "end_time": "2025-05-26T07:47:18.936037Z",
     "start_time": "2025-05-26T07:47:18.912125Z"
    }
   },
   "source": [
    "try:\n",
    "    3 / 0\n",
    "except:\n",
    "    print(\"Not ok, there is an error\")\n",
    "\n",
    "print(\"Finished\")"
   ],
   "outputs": [
    {
     "name": "stdout",
     "output_type": "stream",
     "text": [
      "Not ok, there is an error\n",
      "Finished\n"
     ]
    }
   ],
   "execution_count": 2
  },
  {
   "cell_type": "markdown",
   "metadata": {},
   "source": [
    "Now, we will try to avoid the exceptions mentioned above by rewriting our code as follows.   \n",
    "We have the ability to capture the type of exception."
   ]
  },
  {
   "cell_type": "code",
   "metadata": {
    "ExecuteTime": {
     "end_time": "2025-05-26T07:47:30.932770Z",
     "start_time": "2025-05-26T07:47:30.910330Z"
    }
   },
   "source": [
    "try:\n",
    "    3 / 0\n",
    "except ZeroDivisionError:\n",
    "    print(\"Error: You can't divide by zero\")\n",
    "except ValueError:\n",
    "    print(\"Error: Non-numeric value\")\n",
    "except BaseException:\n",
    "    print(\"Error: there is a problem\")"
   ],
   "outputs": [
    {
     "name": "stdout",
     "output_type": "stream",
     "text": [
      "Error: You can't divide by zero\n"
     ]
    }
   ],
   "execution_count": 3
  },
  {
   "cell_type": "code",
   "metadata": {
    "ExecuteTime": {
     "end_time": "2025-05-26T07:47:38.306306Z",
     "start_time": "2025-05-26T07:47:38.297509Z"
    }
   },
   "source": [
    "try:\n",
    "    3 / int(\"ssss\")\n",
    "except ZeroDivisionError:\n",
    "    print(\"Error: You can't divide by zero\")\n",
    "except ValueError:\n",
    "    print(\"Error: Non-numeric value\")\n",
    "except BaseException:\n",
    "    print(\"Error: there is a problem\")"
   ],
   "outputs": [
    {
     "name": "stdout",
     "output_type": "stream",
     "text": [
      "Error: Non-numeric value\n"
     ]
    }
   ],
   "execution_count": 4
  },
  {
   "cell_type": "markdown",
   "metadata": {},
   "source": [
    "### Finally and else\n",
    "`try`/`except` can be completed with two other keywords: `finally` and `else`.  \n",
    "`else` is the block executed if no exception is thrown."
   ]
  },
  {
   "cell_type": "code",
   "metadata": {
    "ExecuteTime": {
     "end_time": "2025-05-26T07:47:48.735741Z",
     "start_time": "2025-05-26T07:47:48.721603Z"
    }
   },
   "source": [
    "try:\n",
    "    3 / 3\n",
    "except ZeroDivisionError:\n",
    "    print(\"Error: You can't divide by zero\")\n",
    "except ValueError:\n",
    "    print(\"Error: Non-numeric value\")\n",
    "except BaseException:\n",
    "    print(\"Error: there is a problem\")\n",
    "else:\n",
    "    print(\"Everything is ok\")"
   ],
   "outputs": [
    {
     "name": "stdout",
     "output_type": "stream",
     "text": [
      "Everything is ok\n"
     ]
    }
   ],
   "execution_count": 5
  },
  {
   "cell_type": "markdown",
   "metadata": {},
   "source": [
    "`finally` is a block that is executed after all other blocks have been executed, regardless of whether there was an exception or not, and **even if the program crashes**. \n"
   ]
  },
  {
   "cell_type": "code",
   "metadata": {
    "ExecuteTime": {
     "end_time": "2025-05-26T07:47:54.490390Z",
     "start_time": "2025-05-26T07:47:54.482249Z"
    }
   },
   "source": [
    "try:\n",
    "    3 / 0\n",
    "except ZeroDivisionError:\n",
    "    print(\"Error: You can't divide by zero\")\n",
    "except ValueError:\n",
    "    print(\"Error: Non-numeric value\")\n",
    "except BaseException:\n",
    "    print(\"Error: there is a problem\")\n",
    "finally:\n",
    "    print(\"I'll do executing in the end no matter what..\")"
   ],
   "outputs": [
    {
     "name": "stdout",
     "output_type": "stream",
     "text": [
      "Error: You can't divide by zero\n",
      "I'll do executing in the end no matter what..\n"
     ]
    }
   ],
   "execution_count": 6
  },
  {
   "cell_type": "markdown",
   "metadata": {},
   "source": [
    "### raise"
   ]
  },
  {
   "cell_type": "markdown",
   "metadata": {},
   "source": [
    "It is possible to trigger exceptions ourselves."
   ]
  },
  {
   "cell_type": "markdown",
   "metadata": {},
   "source": [
    "`raise` is a Python statement that can trigger any `Error`. This means that an error is explicitly triggered. "
   ]
  },
  {
   "cell_type": "code",
   "metadata": {
    "ExecuteTime": {
     "end_time": "2025-05-26T07:49:49.141320Z",
     "start_time": "2025-05-26T07:49:49.071968Z"
    }
   },
   "source": [
    "def division(num, div):\n",
    "    if div == 0:\n",
    "        raise ZeroDivisionError()\n",
    "    else:\n",
    "        return num / div\n",
    "\n",
    "\n",
    "division(5, 0)"
   ],
   "outputs": [
    {
     "ename": "ZeroDivisionError",
     "evalue": "",
     "output_type": "error",
     "traceback": [
      "\u001B[31m---------------------------------------------------------------------------\u001B[39m",
      "\u001B[31mZeroDivisionError\u001B[39m                         Traceback (most recent call last)",
      "\u001B[36mCell\u001B[39m\u001B[36m \u001B[39m\u001B[32mIn[7]\u001B[39m\u001B[32m, line 8\u001B[39m\n\u001B[32m      4\u001B[39m     \u001B[38;5;28;01melse\u001B[39;00m:\n\u001B[32m      5\u001B[39m         \u001B[38;5;28;01mreturn\u001B[39;00m num / div\n\u001B[32m----> \u001B[39m\u001B[32m8\u001B[39m \u001B[43mdivision\u001B[49m\u001B[43m(\u001B[49m\u001B[32;43m5\u001B[39;49m\u001B[43m,\u001B[49m\u001B[43m \u001B[49m\u001B[32;43m0\u001B[39;49m\u001B[43m)\u001B[49m\n",
      "\u001B[36mCell\u001B[39m\u001B[36m \u001B[39m\u001B[32mIn[7]\u001B[39m\u001B[32m, line 3\u001B[39m, in \u001B[36mdivision\u001B[39m\u001B[34m(num, div)\u001B[39m\n\u001B[32m      1\u001B[39m \u001B[38;5;28;01mdef\u001B[39;00m\u001B[38;5;250m \u001B[39m\u001B[34mdivision\u001B[39m(num, div):\n\u001B[32m      2\u001B[39m     \u001B[38;5;28;01mif\u001B[39;00m div == \u001B[32m0\u001B[39m:\n\u001B[32m----> \u001B[39m\u001B[32m3\u001B[39m         \u001B[38;5;28;01mraise\u001B[39;00m \u001B[38;5;167;01mZeroDivisionError\u001B[39;00m()\n\u001B[32m      4\u001B[39m     \u001B[38;5;28;01melse\u001B[39;00m:\n\u001B[32m      5\u001B[39m         \u001B[38;5;28;01mreturn\u001B[39;00m num / div\n",
      "\u001B[31mZeroDivisionError\u001B[39m: "
     ]
    }
   ],
   "execution_count": 7
  },
  {
   "cell_type": "markdown",
   "metadata": {},
   "source": [
    "We can agree that the `division()` function is completely useless! This was just to showcase the purpose of `raise`. \n",
    "\n",
    "### Creating an exception\n",
    "As you can imagine, we can create our own exceptions. \n",
    "Just create a class that will inherit from the `Exception` class."
   ]
  },
  {
   "cell_type": "code",
   "metadata": {
    "ExecuteTime": {
     "end_time": "2025-05-26T07:50:00.716459Z",
     "start_time": "2025-05-26T07:50:00.709707Z"
    }
   },
   "source": [
    "class MyError(Exception):\n",
    "    pass"
   ],
   "outputs": [],
   "execution_count": 8
  },
  {
   "cell_type": "code",
   "metadata": {
    "ExecuteTime": {
     "end_time": "2025-05-26T07:50:02.701758Z",
     "start_time": "2025-05-26T07:50:02.634947Z"
    }
   },
   "source": [
    "raise MyError(\"Hello\")"
   ],
   "outputs": [
    {
     "ename": "MyError",
     "evalue": "Hello",
     "output_type": "error",
     "traceback": [
      "\u001B[31m---------------------------------------------------------------------------\u001B[39m",
      "\u001B[31mMyError\u001B[39m                                   Traceback (most recent call last)",
      "\u001B[36mCell\u001B[39m\u001B[36m \u001B[39m\u001B[32mIn[9]\u001B[39m\u001B[32m, line 1\u001B[39m\n\u001B[32m----> \u001B[39m\u001B[32m1\u001B[39m \u001B[38;5;28;01mraise\u001B[39;00m MyError(\u001B[33m\"\u001B[39m\u001B[33mHello\u001B[39m\u001B[33m\"\u001B[39m)\n",
      "\u001B[31mMyError\u001B[39m: Hello"
     ]
    }
   ],
   "execution_count": 9
  }
 ],
 "metadata": {
  "kernelspec": {
   "display_name": "Python 3",
   "language": "python",
   "name": "python3"
  },
  "language_info": {
   "codemirror_mode": {
    "name": "ipython"
   },
   "file_extension": ".py",
   "mimetype": "text/x-python",
   "name": "python",
   "nbconvert_exporter": "python"
  }
 },
 "nbformat": 4,
 "nbformat_minor": 2
}
