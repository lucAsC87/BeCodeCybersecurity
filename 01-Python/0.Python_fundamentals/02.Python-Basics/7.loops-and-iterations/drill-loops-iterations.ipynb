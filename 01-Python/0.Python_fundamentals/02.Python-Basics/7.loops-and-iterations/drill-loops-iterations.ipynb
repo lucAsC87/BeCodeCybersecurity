{
 "cells": [
  {
   "cell_type": "markdown",
   "metadata": {},
   "source": [
    "# Drill loops and iterations"
   ]
  },
  {
   "cell_type": "markdown",
   "metadata": {},
   "source": [
    "### 1. Display all students in the `students` list in alphabetical order."
   ]
  },
  {
   "cell_type": "code",
   "metadata": {
    "ExecuteTime": {
     "end_time": "2025-05-22T19:17:15.443491Z",
     "start_time": "2025-05-22T19:17:15.430037Z"
    }
   },
   "source": [
    "students = [\n",
    "    \"Merouane\",\n",
    "    \"Baptiste\",\n",
    "    \"Caroline\",\n",
    "    \"Joe\",\n",
    "    \"Sophie\",\n",
    "    \"Nathan\",\n",
    "    \"Raphaël\",\n",
    "    \"Axel\",\n",
    "    \"Mathieu\",\n",
    "    \"Adrien\",\n",
    "]\n",
    "students.sort()\n",
    "for student in students:\n",
    "\tprint(student)"
   ],
   "outputs": [
    {
     "name": "stdout",
     "output_type": "stream",
     "text": [
      "Adrien\n",
      "Axel\n",
      "Baptiste\n",
      "Caroline\n",
      "Joe\n",
      "Mathieu\n",
      "Merouane\n",
      "Nathan\n",
      "Raphaël\n",
      "Sophie\n"
     ]
    }
   ],
   "execution_count": 2
  },
  {
   "cell_type": "markdown",
   "metadata": {},
   "source": [
    "### 2. Display only the names which begin with the letter \"M\"."
   ]
  },
  {
   "cell_type": "code",
   "metadata": {
    "ExecuteTime": {
     "end_time": "2025-05-22T19:12:33.632592Z",
     "start_time": "2025-05-22T19:12:33.625074Z"
    }
   },
   "source": [
    "for student in students:\n",
    "\tif student.startswith(\"M\"):\n",
    "\t\tprint(student)"
   ],
   "outputs": [
    {
     "name": "stdout",
     "output_type": "stream",
     "text": [
      "Mathieu\n",
      "Merouane\n"
     ]
    }
   ],
   "execution_count": 3
  },
  {
   "cell_type": "markdown",
   "metadata": {},
   "source": [
    "### 3. Display integers from 0 to 15 not included, using a `for` loop and the `range()` instruction."
   ]
  },
  {
   "cell_type": "code",
   "metadata": {
    "ExecuteTime": {
     "end_time": "2025-05-22T19:14:12.013451Z",
     "start_time": "2025-05-22T19:14:11.949615Z"
    }
   },
   "source": [
    "for i in range(0, 15):\n",
    "\tprint(i)"
   ],
   "outputs": [
    {
     "name": "stdout",
     "output_type": "stream",
     "text": [
      "0\n",
      "1\n",
      "2\n",
      "3\n",
      "4\n",
      "5\n",
      "6\n",
      "7\n",
      "8\n",
      "9\n",
      "10\n",
      "11\n",
      "12\n",
      "13\n",
      "14\n"
     ]
    }
   ],
   "execution_count": 5
  },
  {
   "cell_type": "markdown",
   "metadata": {},
   "source": [
    "### 4. Create a `for` loop that displays integers from 1 to 10 included, but use the `break` instruction to interrupt it at 5."
   ]
  },
  {
   "cell_type": "code",
   "metadata": {
    "ExecuteTime": {
     "end_time": "2025-05-22T19:14:20.135167Z",
     "start_time": "2025-05-22T19:14:20.120200Z"
    }
   },
   "source": [
    "for i in range(1, 11):\n",
    "\tprint(i)\n",
    "\tif i == 5:\n",
    "\t\tbreak"
   ],
   "outputs": [
    {
     "name": "stdout",
     "output_type": "stream",
     "text": [
      "1\n",
      "2\n",
      "3\n",
      "4\n",
      "5\n"
     ]
    }
   ],
   "execution_count": 6
  },
  {
   "cell_type": "markdown",
   "metadata": {},
   "source": [
    "### 4. Create a `for` loop that displays integers from 1 to 10 included, but use the `continue` to modify its execution at 5."
   ]
  },
  {
   "cell_type": "code",
   "metadata": {
    "ExecuteTime": {
     "end_time": "2025-05-22T19:14:32.216439Z",
     "start_time": "2025-05-22T19:14:32.204633Z"
    }
   },
   "source": [
    "for i in range(1, 11):\n",
    "\tif i == 5:\n",
    "\t\tcontinue\n",
    "\tprint(i)"
   ],
   "outputs": [
    {
     "name": "stdout",
     "output_type": "stream",
     "text": [
      "1\n",
      "2\n",
      "3\n",
      "4\n",
      "6\n",
      "7\n",
      "8\n",
      "9\n",
      "10\n"
     ]
    }
   ],
   "execution_count": 7
  },
  {
   "cell_type": "markdown",
   "metadata": {},
   "source": [
    "### 6. Follow the instructions :"
   ]
  },
  {
   "cell_type": "markdown",
   "metadata": {},
   "source": [
    "- **Sort and display the list.**\n",
    "    - Output expected: `[10, 17, 25, 38, 72]`\n",
    "- **Add item 12 to the list and display the list.**\n",
    "    - Output expected: `[17, 38, 10, 25, 72, 12]`\n",
    "- **Reverse and display the list.**\n",
    "    - Output expected: `[12, 72, 25, 10, 38, 17]`\n",
    "- **Display the index of element 17.**\n",
    "    - Output expected: `5`\n",
    "- **Remove item 38 and display the list.**\n",
    "    - Output expected: `[12, 72, 25, 10, 17]`\n",
    "- **Display the sub-list of the 2nd to 3rd element.**\n",
    "    - Output expected: `[72, 25]`\n",
    "- **Display the sub-list from the beginning to the 2nd element.**\n",
    "    - Output expected: `[12, 72]`\n",
    "- **Display the sub-list of the 3rd element at the end of the list.**\n",
    "    - Output expected: `[25, 10, 17]`\n",
    "- **Display the complete sub-list of the list.**\n",
    "    - Output expected: `[12, 72, 25, 10, 17]`\n",
    "- **Display the last element using a negative indication.**\n",
    "    - Output expected: `[17]`"
   ]
  },
  {
   "cell_type": "code",
   "metadata": {
    "ExecuteTime": {
     "end_time": "2025-05-22T19:14:45.594026Z",
     "start_time": "2025-05-22T19:14:45.526854Z"
    }
   },
   "source": [
    "list_of_numbers = [17, 38, 10, 25, 72]\n",
    "\n",
    "# Code here\n",
    "sorted_list = list_of_numbers.copy()\n",
    "sorted_list.sort()\n",
    "print(sorted_list)\n",
    "list_of_numbers.append(12)\n",
    "print(list_of_numbers)\n",
    "list_of_numbers.reverse()\n",
    "print(list_of_numbers)\n",
    "print(list_of_numbers.index(17))\n",
    "list_of_numbers.remove(38)\n",
    "print(list_of_numbers)\n",
    "print(list_of_numbers[1:3])\n",
    "print(list_of_numbers[:2])\n",
    "print(list_of_numbers[2:])\n",
    "print(list_of_numbers[:])\n",
    "print(list_of_numbers[-1:])"
   ],
   "outputs": [
    {
     "name": "stdout",
     "output_type": "stream",
     "text": [
      "[10, 17, 25, 38, 72]\n",
      "[17, 38, 10, 25, 72, 12]\n",
      "[12, 72, 25, 10, 38, 17]\n",
      "5\n",
      "[12, 72, 25, 10, 17]\n",
      "[72, 25]\n",
      "[12, 72]\n",
      "[25, 10, 17]\n",
      "[12, 72, 25, 10, 17]\n",
      "[17]\n"
     ]
    }
   ],
   "execution_count": 8
  },
  {
   "cell_type": "markdown",
   "metadata": {},
   "source": [
    "Note that some list methods do not return anything."
   ]
  },
  {
   "cell_type": "markdown",
   "metadata": {},
   "source": [
    "### 7. Write an algorithm that:\n",
    "1. Asks the user to enter a number.\n",
    "2. Make sure that your program displays all the numbers down to 0. For example, if the user enters the number 3, then your program will display something like this: `3,2,1,0`"
   ]
  },
  {
   "cell_type": "code",
   "metadata": {
    "ExecuteTime": {
     "end_time": "2025-05-22T19:14:58.985643Z",
     "start_time": "2025-05-22T19:14:52.287525Z"
    }
   },
   "source": [
    "number = int(input(\"Enter a number: \"))\n",
    "while number >= 0:\n",
    "\tprint(number)\n",
    "\tnumber -= 1"
   ],
   "outputs": [
    {
     "name": "stdout",
     "output_type": "stream",
     "text": [
      "8\n",
      "7\n",
      "6\n",
      "5\n",
      "4\n",
      "3\n",
      "2\n",
      "1\n",
      "0\n"
     ]
    }
   ],
   "execution_count": 9
  },
  {
   "cell_type": "markdown",
   "metadata": {},
   "source": [
    "### 8.The price is right ! \n",
    "- Create a variable that will contain the number to be found. \n",
    "- Then create a function that will ask the user to find this price (asking for a number). \n",
    "- If the user enters a number that is too high, output the sentence: \"It's less.\". \n",
    "- If he enters a number that is too low, output the sentence: \"It's more.\". \n",
    "- If the user finds the right price, output the sentence: \"Well done, you won!\"."
   ]
  },
  {
   "cell_type": "code",
   "metadata": {
    "ExecuteTime": {
     "end_time": "2025-05-22T19:15:10.371565Z",
     "start_time": "2025-05-22T19:15:08.580746Z"
    }
   },
   "source": [
    "num_to_guess = 7\n",
    "def guess_number():\n",
    "\ttry_num = int(input(\"Guess the number!\"))\n",
    "\tif try_num > num_to_guess:\n",
    "\t\tprint(\"It's less.\")\n",
    "\telif try_num < num_to_guess:\n",
    "\t\tprint(\"It's more.\")\n",
    "\telse:\n",
    "\t\tprint(\"Well done, you won!\")\n",
    "guess_number()\n"
   ],
   "outputs": [
    {
     "name": "stdout",
     "output_type": "stream",
     "text": [
      "Well done, you won!\n"
     ]
    }
   ],
   "execution_count": 11
  },
  {
   "cell_type": "markdown",
   "metadata": {},
   "source": [
    "### 9. Display all students with the sentence \"NAME is an alumni. \""
   ]
  },
  {
   "cell_type": "code",
   "execution_count": 36,
   "metadata": {},
   "outputs": [
    {
     "name": "stdout",
     "output_type": "stream",
     "text": [
      "David is an alumni\n",
      "Justine is an alumni\n",
      "Valentin is an alumni\n",
      "Axel is an alumni\n",
      "Redouane is an alumni\n",
      "Julie is an alumni\n",
      "Stéphane is an alumni\n",
      "Mostapha is an alumni\n",
      "Claudiu is an alumni\n",
      "Son is an alumni\n"
     ]
    }
   ],
   "source": [
    "all_students = [\n",
    "    [\"David\", \"Justine\", \"Valentin\", \"Axel\", \"Redouane\"],\n",
    "    [\"Julie\", \"Stéphane\", \"Mostapha\", \"Claudiu\", \"Son\"],\n",
    "]\n",
    "for student in all_students:\n",
    "\tfor name in student:\n",
    "\t    print(name, \"is an alumni\")"
   ]
  },
  {
   "cell_type": "markdown",
   "metadata": {},
   "source": [
    "**10. Display all elements. If the element is part of the first list, display - `\"ELEMENT_HERE is a backend language?\"` - and if the element is part of the second list, display - `\"ELEMENT_HERE is a frontend language?\"`** "
   ]
  },
  {
   "cell_type": "code",
   "execution_count": 38,
   "metadata": {},
   "outputs": [
    {
     "name": "stdout",
     "output_type": "stream",
     "text": [
      "PHP is a backend language?\n",
      "Java is a backend language?\n",
      "C# is a backend language?\n",
      "HTML is a frontend language?\n",
      "CSS is a frontend language?\n",
      "Javascript is a frontend language?\n"
     ]
    }
   ],
   "source": [
    "languages = [[\"PHP\", \"Java\", \"C#\"], [\"HTML\", \"CSS\", \"Javascript\"]]\n",
    "for language in languages:\n",
    "\tfor element in language:\n",
    "\t\tif element in languages[0]:\n",
    "\t\t\tprint(element, \"is a backend language?\")\n",
    "\t\telse:\n",
    "\t\t\tprint(element, \"is a frontend language?\")"
   ]
  },
  {
   "cell_type": "markdown",
   "metadata": {},
   "source": [
    "## [Next one](../8.everything-is-object/everything-is-object.ipynb)"
   ]
  }
 ],
 "metadata": {
  "kernelspec": {
   "display_name": "Python 3",
   "language": "python",
   "name": "python3"
  },
  "language_info": {
   "codemirror_mode": {
    "name": "ipython",
    "version": 3
   },
   "file_extension": ".py",
   "mimetype": "text/x-python",
   "name": "python",
   "nbconvert_exporter": "python",
   "pygments_lexer": "ipython3",
   "version": "3.12.3"
  }
 },
 "nbformat": 4,
 "nbformat_minor": 2
}
